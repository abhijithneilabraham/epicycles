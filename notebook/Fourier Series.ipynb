{
 "cells": [
  {
   "cell_type": "markdown",
   "metadata": {},
   "source": [
    "Fourier Series\n",
    "========\n",
    "\n",
    "+ Try to calculate a fourier series in python\n"
   ]
  },
  {
   "cell_type": "code",
   "execution_count": 1,
   "metadata": {
    "collapsed": true,
    "scrolled": true
   },
   "outputs": [],
   "source": [
    "from __future__ import division\n",
    "import numpy as np\n",
    "from scipy import integrate\n",
    "import matplotlib.pyplot as plt\n"
   ]
  },
  {
   "cell_type": "markdown",
   "metadata": {},
   "source": [
    "## main functions\n",
    "\n",
    "+ use `sn = fourier_series(f, N, offset=0, period=2*np.pi)` to create a fourier series of function $f(x)$ in range $(offset,\\; offset+period)$\n",
    "+ use `sn(t)` to calculate $S_n(x)$"
   ]
  },
  {
   "cell_type": "code",
   "execution_count": 29,
   "metadata": {
    "collapsed": false,
    "scrolled": true
   },
   "outputs": [],
   "source": [
    "class fourier_series :\n",
    "    def __init__(self, f, N, offset=0, period=2*np.pi) :\n",
    "        self.N = N\n",
    "        self.period = period\n",
    "        self.offset = offset\n",
    "        self.c = np.zeros(2*N+1, dtype=complex)\n",
    "        for n in range(-N, N+1) :\n",
    "            self.c[n] = complex(integrate.quad(lambda x : (f(x)*np.exp(-2.0j*np.pi*n*x/period)).real, \\\n",
    "                                          offset, offset + period)[0], \\\n",
    "                           integrate.quad(lambda x : (f(x)*np.exp(-2.0j*np.pi*n*x/period)).imag, \\\n",
    "                                          offset, offset + period)[0])/period\n",
    "        self._v_sn = np.vectorize(self._sn)\n",
    "    \n",
    "    def _sn(self, x) :\n",
    "        ans = 0.0j\n",
    "        for n in range(-self.N, self.N+1) :\n",
    "            ans += self.c[n] * np.exp(2.0j*np.pi*n*(x-self.offset)/self.period)\n",
    "        return ans\n",
    "    \n",
    "    def __call__(self, x) :\n",
    "        return self._v_sn(x)"
   ]
  },
  {
   "cell_type": "markdown",
   "metadata": {},
   "source": [
    "### Example 1:"
   ]
  },
  {
   "cell_type": "code",
   "execution_count": 33,
   "metadata": {
    "collapsed": false,
    "scrolled": true
   },
   "outputs": [
    {
     "data": {
      "text/plain": [
       "<__main__.fourier_series instance at 0x116be43b0>"
      ]
     },
     "execution_count": 33,
     "metadata": {},
     "output_type": "execute_result"
    }
   ],
   "source": [
    "@np.vectorize\n",
    "def f(x) :\n",
    "    return np.floor(x)%2\n",
    "\n",
    "s = fourier_series(f, 10, 0., 2.)\n",
    "s"
   ]
  },
  {
   "cell_type": "code",
   "execution_count": 36,
   "metadata": {
    "collapsed": false
   },
   "outputs": [
    {
     "data": {
      "image/png": "[encoded data removed]",
      "text/plain": [
       "<matplotlib.figure.Figure at 0x116e2f310>"
      ]
     },
     "metadata": {},
     "output_type": "display_data"
    }
   ],
   "source": [
    "t = np.linspace(0, 4, 200)\n",
    "plt.plot(t, f(t), 'rx', t, s(t).real, 'b-')\n",
    "plt.legend(['original', 'fourier'])\n",
    "plt.title('Fourier Series --Example 1')\n",
    "plt.show()"
   ]
  },
  {
   "cell_type": "markdown",
   "metadata": {},
   "source": [
    "### Another example\n",
    "\n",
    "Here we want to calculate the function which is given by a series of $\\sin$s and $\\cos$s of a star."
   ]
  },
  {
   "cell_type": "code",
   "execution_count": 41,
   "metadata": {
    "collapsed": true
   },
   "outputs": [],
   "source": [
    "from scipy.interpolate import interp1d"
   ]
  },
  {
   "cell_type": "markdown",
   "metadata": {},
   "source": [
    "To get started, at first we find the verteices in complex value like this:"
   ]
  },
  {
   "cell_type": "code",
   "execution_count": 40,
   "metadata": {
    "collapsed": false
   },
   "outputs": [],
   "source": [
    "s = np.array([np.exp(4.0j*np.pi*x/5.) for x in range(6)])"
   ]
  },
  {
   "cell_type": "markdown",
   "metadata": {},
   "source": [
    "Then, we may transfer the lines into a real->complex function:"
   ]
  },
  {
   "cell_type": "code",
   "execution_count": 62,
   "metadata": {
    "collapsed": false
   },
   "outputs": [],
   "source": [
    "_t = np.linspace(0., 2*np.pi, num=len(s))\n",
    "g = interp1d(_t, s)"
   ]
  },
  {
   "cell_type": "markdown",
   "metadata": {},
   "source": [
    "And now create a Fourier Series:"
   ]
  },
  {
   "cell_type": "code",
   "execution_count": 64,
   "metadata": {
    "collapsed": false
   },
   "outputs": [],
   "source": [
    "fs = fourier_series(g, 4)\n",
    "t = np.linspace(0., 2*np.pi, 200)"
   ]
  },
  {
   "cell_type": "code",
   "execution_count": 66,
   "metadata": {
    "collapsed": false
   },
   "outputs": [
    {
     "data": {
      "image/png": "[encoded data removed]",
      "text/plain": [
       "<matplotlib.figure.Figure at 0x116a82110>"
      ]
     },
     "metadata": {},
     "output_type": "display_data"
    }
   ],
   "source": [
    "plt.plot(fs(t).real, fs(t).imag, 'b-', label='fourier')\n",
    "plt.plot(g(t).real, g(t).imag, 'g--', label='interpolate')\n",
    "plt.plot(s.real, s.imag, 'bx', label='original')\n",
    "plt.legend()\n",
    "plt.title('Fourier Series --star')\n",
    "plt.axies([-1.4, ])\n",
    "plt.show()"
   ]
  }
 ],
 "metadata": {
  "kernelspec": {
   "display_name": "Python 2",
   "language": "python",
   "name": "python2"
  },
  "language_info": {
   "codemirror_mode": {
    "name": "ipython",
    "version": 2
   },
   "file_extension": ".py",
   "mimetype": "text/x-python",
   "name": "python",
   "nbconvert_exporter": "python",
   "pygments_lexer": "ipython2",
   "version": "2.7.13"
  }
 },
 "nbformat": 4,
 "nbformat_minor": 2
}
