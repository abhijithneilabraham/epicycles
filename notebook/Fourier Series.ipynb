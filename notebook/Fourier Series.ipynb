{
 "cells": [
  {
   "cell_type": "markdown",
   "metadata": {},
   "source": [
    "Fourier Series\n",
    "========\n",
    "\n",
    "+ Try to calculate a fourier series in python\n"
   ]
  },
  {
   "cell_type": "code",
   "execution_count": 1,
   "metadata": {
    "collapsed": true,
    "scrolled": true
   },
   "outputs": [],
   "source": [
    "from __future__ import division\n",
    "import numpy as np\n",
    "from scipy import integrate\n",
    "import matplotlib.pyplot as plt\n"
   ]
  },
  {
   "cell_type": "markdown",
   "metadata": {},
   "source": [
    "## main functions\n",
    "\n",
    "+ use `fourier_series(f, N, vmin=0, vmax=2*np.pi)` to create a fourier series of function $f(x)$ and save the output in an array\n",
    "+ use `sn(t, series=the_series, period=the_period)` (**must call vectorized functions like this**) to calculate $S_n(x)$"
   ]
  },
  {
   "cell_type": "code",
   "execution_count": 2,
   "metadata": {
    "collapsed": false,
    "scrolled": true
   },
   "outputs": [],
   "source": [
    "def fourier_series(f, N, vmin=0, vmax=2*np.pi) :\n",
    "    period = vmax - vmin\n",
    "    c = np.zeros(2*N+1, dtype=complex)\n",
    "    for n in range(-N, N+1) :\n",
    "        c[n] = complex(integrate.quad(lambda x : (f(x)*np.exp(-2.0j*np.pi*n*x/period)).real, vmin, vmax)[0], \\\n",
    "                       integrate.quad(lambda x : (f(x)*np.exp(-2.0j*np.pi*n*x/period)).imag, vmin, vmax)[0])\n",
    "    return c/period\n",
    "\n",
    "def sn(x, series, period) :\n",
    "    N = int(len(series)/2)\n",
    "    ans = 0.0j\n",
    "    for n in range(-N, N+1) :\n",
    "        ans += series[n] * np.exp(2.0j*np.pi*n*x/period)\n",
    "    return ans\n",
    "\n",
    "sn = np.vectorize(sn, excluded=['series', 'period'])"
   ]
  },
  {
   "cell_type": "markdown",
   "metadata": {},
   "source": [
    "Here is an example:"
   ]
  },
  {
   "cell_type": "code",
   "execution_count": 6,
   "metadata": {
    "collapsed": false,
    "scrolled": true
   },
   "outputs": [
    {
     "data": {
      "text/plain": [
       "array([  5.00000000e-01 +0.00000000e+00j,\n",
       "        -6.19660372e-17 +3.18309886e-01j,\n",
       "         9.02056208e-17 +3.98717578e-18j,\n",
       "        -1.35859401e-16 +1.06103295e-01j,\n",
       "        -2.53269627e-16 +3.48964174e-18j,\n",
       "        -1.34113060e-16 +6.36619772e-02j,\n",
       "        -3.20328371e-17 +2.15657044e-17j,\n",
       "        -1.36509047e-16 +4.54728409e-02j,\n",
       "        -1.76941795e-16 -8.65420365e-17j,\n",
       "         2.00757606e-16 +3.53677651e-02j,\n",
       "        -3.00912466e-16 -1.04038057e-16j,\n",
       "        -3.00912466e-16 +1.04038057e-16j,\n",
       "         2.00757606e-16 -3.53677651e-02j,\n",
       "        -1.76941795e-16 +8.65420365e-17j,\n",
       "        -1.36509047e-16 -4.54728409e-02j,\n",
       "        -3.20328371e-17 -2.15657044e-17j,\n",
       "        -1.34113060e-16 -6.36619772e-02j,\n",
       "        -2.53269627e-16 -3.48964174e-18j,\n",
       "        -1.35859401e-16 -1.06103295e-01j,\n",
       "         9.02056208e-17 -3.98717578e-18j,  -6.19660372e-17 -3.18309886e-01j])"
      ]
     },
     "execution_count": 6,
     "metadata": {},
     "output_type": "execute_result"
    }
   ],
   "source": [
    "@np.vectorize\n",
    "def f(x) :\n",
    "    return np.floor(x)%2\n",
    "\n",
    "c = fourier_series(f, 10, 0., 2.)\n",
    "c"
   ]
  },
  {
   "cell_type": "code",
   "execution_count": 8,
   "metadata": {
    "collapsed": false
   },
   "outputs": [
    {
     "data": {
      "image/png": "[encoded data removed]",
      "text/plain": [
       "<matplotlib.figure.Figure at 0x10d1c7990>"
      ]
     },
     "metadata": {},
     "output_type": "display_data"
    }
   ],
   "source": [
    "t = np.linspace(0, 4, 200)\n",
    "plt.plot(t, f(t), 'rx', t, sn(t, series=c, period=2.).real, 'b-')\n",
    "plt.show()"
   ]
  }
 ],
 "metadata": {
  "kernelspec": {
   "display_name": "Python 2",
   "language": "python",
   "name": "python2"
  },
  "language_info": {
   "codemirror_mode": {
    "name": "ipython",
    "version": 2
   },
   "file_extension": ".py",
   "mimetype": "text/x-python",
   "name": "python",
   "nbconvert_exporter": "python",
   "pygments_lexer": "ipython2",
   "version": "2.7.13"
  }
 },
 "nbformat": 4,
 "nbformat_minor": 2
}
